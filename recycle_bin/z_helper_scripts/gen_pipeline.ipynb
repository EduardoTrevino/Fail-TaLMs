{
 "cells": [
  {
   "cell_type": "code",
   "execution_count": 1,
   "metadata": {},
   "outputs": [
    {
     "name": "stdout",
     "output_type": "stream",
     "text": [
      "{'help': 'https://data.gov.sg/api/3/action/help_show?name=datastore_search', 'success': True, 'result': {'resource_id': 'd_359c51c213daec19bb5f7eaa4208466b', 'fields': [{'type': 'text', 'id': 'Notification_No'}, {'type': 'text', 'id': 'Subject'}, {'type': 'text', 'id': 'Published_Date'}, {'type': 'int4', 'id': '_id'}], 'records': [{'_id': 1, 'Notification_No': '1533', 'Subject': '<a href=\"https://storage.egazette.gov.sg/getFiles?ct=gg-Vacation&yr=2024&filename=24gg1617.pdf\">Declaration that Mr Lee Hsien Loong has vacated office of Prime Minister</a>', 'Published_Date': '2024-05-16'}], '_links': {'start': '/api/action/datastore_search?resource_id=d_359c51c213daec19bb5f7eaa4208466b', 'next': '/api/action/datastore_search?resource_id=d_359c51c213daec19bb5f7eaa4208466b&offset=100'}, 'total': 1}}\n"
     ]
    }
   ],
   "source": [
    "import requests\n",
    "\n",
    "# Define the base URL and resource ID\n",
    "base_url = \"https://data.gov.sg/api/action/datastore_search\"\n",
    "resource_id = \"d_359c51c213daec19bb5f7eaa4208466b\"\n",
    "\n",
    "# Construct the full URL\n",
    "url = f\"{base_url}?resource_id={resource_id}\"\n",
    "\n",
    "# Send the GET request to the API endpoint\n",
    "response = requests.get(url)\n",
    "\n",
    "# Print the response in JSON format\n",
    "print(response.json())"
   ]
  },
  {
   "cell_type": "code",
   "execution_count": 2,
   "metadata": {},
   "outputs": [
    {
     "name": "stdout",
     "output_type": "stream",
     "text": [
      "Notification No: 1533\n",
      "Published Date: 2024-05-16\n",
      "PDF Link: https://storage.egazette.gov.sg/getFiles?ct=gg-Vacation&yr=2024&filename=24gg1617.pdf\n"
     ]
    }
   ],
   "source": [
    "import requests\n",
    "\n",
    "# Extract the URL from the 'Subject' field\n",
    "subject_field = response.json()['result']['records'][0]['Subject']\n",
    "\n",
    "# Parse the HTML link from the Subject field\n",
    "from bs4 import BeautifulSoup\n",
    "\n",
    "soup = BeautifulSoup(subject_field, 'html.parser')\n",
    "link = soup.find('a')['href']\n",
    "\n",
    "# Print the extracted data\n",
    "print(f\"Notification No: {response.json()['result']['records'][0]['Notification_No']}\")\n",
    "print(f\"Published Date: {response.json()['result']['records'][0]['Published_Date']}\")\n",
    "print(f\"PDF Link: {link}\")"
   ]
  },
  {
   "cell_type": "code",
   "execution_count": 6,
   "metadata": {},
   "outputs": [
    {
     "name": "stdout",
     "output_type": "stream",
     "text": [
      "Required sample size: 1564.53\n"
     ]
    }
   ],
   "source": [
    "from statsmodels.stats.power import NormalIndPower\n",
    "import numpy as np\n",
    "\n",
    "# Function to calculate Cohen's h\n",
    "def cohen_h(p1, p2):\n",
    "    return 2 * np.arcsin(np.sqrt(p1)) - 2 * np.arcsin(np.sqrt(p2))\n",
    "\n",
    "# Expected proportions\n",
    "p1 = 0.5  # Hypothesized proportion of correct decisions without improvement\n",
    "p2 = 0.55  # Expected proportion of correct decisions after improvement\n",
    "\n",
    "# Calculate effect size\n",
    "effect_size = cohen_h(p1, p2)\n",
    "\n",
    "# Power analysis\n",
    "analysis = NormalIndPower()\n",
    "sample_size = analysis.solve_power(effect_size, power=0.80, alpha=0.05)\n",
    "print(f\"Required sample size: {sample_size:.2f}\")"
   ]
  }
 ],
 "metadata": {
  "kernelspec": {
   "display_name": "nlp-rag",
   "language": "python",
   "name": "python3"
  },
  "language_info": {
   "codemirror_mode": {
    "name": "ipython",
    "version": 3
   },
   "file_extension": ".py",
   "mimetype": "text/x-python",
   "name": "python",
   "nbconvert_exporter": "python",
   "pygments_lexer": "ipython3",
   "version": "3.12.1"
  }
 },
 "nbformat": 4,
 "nbformat_minor": 2
}
