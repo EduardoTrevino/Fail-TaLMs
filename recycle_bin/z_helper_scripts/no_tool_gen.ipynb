{
 "cells": [
  {
   "cell_type": "code",
   "execution_count": 1,
   "metadata": {},
   "outputs": [],
   "source": [
    "import os\n",
    "import json\n",
    "\n",
    "def remove_api_list(obj):\n",
    "    \"\"\"\n",
    "    Recursively sets 'api_list' to an empty list wherever it appears in the JSON data.\n",
    "    \"\"\"\n",
    "    if isinstance(obj, dict):\n",
    "        for key, value in obj.items():\n",
    "            if key == 'api_list':\n",
    "                obj[key] = []\n",
    "            else:\n",
    "                remove_api_list(value)\n",
    "    elif isinstance(obj, list):\n",
    "        for item in obj:\n",
    "            remove_api_list(item)\n",
    "\n",
    "def main():\n",
    "    original_dir = 'Original'\n",
    "    no_tools_dir = 'No-tools'\n",
    "\n",
    "    # Ensure the No-tools directory exists\n",
    "    if not os.path.exists(no_tools_dir):\n",
    "        os.makedirs(no_tools_dir)\n",
    "\n",
    "    # Walk through the Original directory\n",
    "    for root, dirs, files in os.walk(original_dir):\n",
    "        for file in files:\n",
    "            if file.endswith('.json'):\n",
    "                original_file_path = os.path.join(root, file)\n",
    "                rel_path = os.path.relpath(original_file_path, original_dir)\n",
    "                new_file_path = os.path.join(no_tools_dir, rel_path)\n",
    "                new_file_dir = os.path.dirname(new_file_path)\n",
    "\n",
    "                # Ensure the corresponding directory in No-tools exists\n",
    "                if not os.path.exists(new_file_dir):\n",
    "                    os.makedirs(new_file_dir)\n",
    "\n",
    "                # Read the JSON data from the original file\n",
    "                with open(original_file_path, 'r') as f:\n",
    "                    data = json.load(f)\n",
    "\n",
    "                # Remove 'api_list' entries\n",
    "                remove_api_list(data)\n",
    "\n",
    "                # Write the modified data to the new file in No-tools\n",
    "                with open(new_file_path, 'w') as f:\n",
    "                    json.dump(data, f, indent=4)\n",
    "\n",
    "if __name__ == \"__main__\":\n",
    "    main()"
   ]
  }
 ],
 "metadata": {
  "kernelspec": {
   "display_name": "base",
   "language": "python",
   "name": "python3"
  },
  "language_info": {
   "codemirror_mode": {
    "name": "ipython",
    "version": 3
   },
   "file_extension": ".py",
   "mimetype": "text/x-python",
   "name": "python",
   "nbconvert_exporter": "python",
   "pygments_lexer": "ipython3",
   "version": "3.12.4"
  }
 },
 "nbformat": 4,
 "nbformat_minor": 2
}
