{
 "cells": [
  {
   "cell_type": "code",
   "execution_count": 2,
   "metadata": {},
   "outputs": [
    {
     "name": "stdout",
     "output_type": "stream",
     "text": [
      "Total number of unittest functions: 1006\n"
     ]
    }
   ],
   "source": [
    "import os\n",
    "import ast\n",
    "\n",
    "def count_unittest_functions_in_file(file_path):\n",
    "    with open(file_path, \"r\") as file:\n",
    "        file_content = file.read()\n",
    "    # Parse the file content into an AST (Abstract Syntax Tree)\n",
    "    tree = ast.parse(file_content)\n",
    "    \n",
    "    # Count all the function definitions that are part of a unittest TestCase class\n",
    "    test_function_count = 0\n",
    "    for node in ast.walk(tree):\n",
    "        # Look for function definitions\n",
    "        if isinstance(node, ast.FunctionDef):\n",
    "            # Test functions in unittest usually start with 'test'\n",
    "            if node.name.startswith(\"test\"):\n",
    "                test_function_count += 1\n",
    "    return test_function_count\n",
    "\n",
    "def count_total_unittest_functions(directory):\n",
    "    total_tests = 0\n",
    "    for root, dirs, files in os.walk(directory):\n",
    "        for file in files:\n",
    "            if file == 'api_test.py':\n",
    "                file_path = os.path.join(root, file)\n",
    "                total_tests += count_unittest_functions_in_file(file_path)\n",
    "    return total_tests\n",
    "\n",
    "# Replace 'tools' with your directory path\n",
    "tools_directory = '.'\n",
    "total_tests = count_total_unittest_functions(tools_directory)\n",
    "print(f\"Total number of unittest functions: {total_tests}\")\n"
   ]
  },
  {
   "cell_type": "code",
   "execution_count": 4,
   "metadata": {},
   "outputs": [
    {
     "name": "stdout",
     "output_type": "stream",
     "text": [
      "Total number of functions: 1016\n"
     ]
    }
   ],
   "source": [
    "import os\n",
    "\n",
    "def count_def_functions_in_file(file_path):\n",
    "    with open(file_path, \"r\") as file:\n",
    "        file_content = file.read()\n",
    "    # Count occurrences of 'def ' (with a space to avoid false positives)\n",
    "    return file_content.count('def ')\n",
    "\n",
    "def count_total_def_functions(directory):\n",
    "    total_functions = 0\n",
    "    for root, dirs, files in os.walk(directory):\n",
    "        for file in files:\n",
    "            if file == 'api_test.py':\n",
    "                file_path = os.path.join(root, file)\n",
    "                total_functions += count_def_functions_in_file(file_path)\n",
    "    return total_functions\n",
    "\n",
    "# Replace 'tools' with your directory path\n",
    "tools_directory = '.'\n",
    "total_functions = count_total_def_functions(tools_directory)\n",
    "print(f\"Total number of functions: {total_functions}\")\n"
   ]
  }
 ],
 "metadata": {
  "kernelspec": {
   "display_name": "toolsforjob",
   "language": "python",
   "name": "python3"
  },
  "language_info": {
   "codemirror_mode": {
    "name": "ipython",
    "version": 3
   },
   "file_extension": ".py",
   "mimetype": "text/x-python",
   "name": "python",
   "nbconvert_exporter": "python",
   "pygments_lexer": "ipython3",
   "version": "3.10.14"
  }
 },
 "nbformat": 4,
 "nbformat_minor": 2
}
