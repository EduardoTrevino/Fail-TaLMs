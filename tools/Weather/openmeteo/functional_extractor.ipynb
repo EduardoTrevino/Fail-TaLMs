{
  "cells": [
    {
      "cell_type": "code",
      "execution_count": 1,
      "metadata": {},
      "outputs": [
        {
          "name": "stderr",
          "output_type": "stream",
          "text": [
            "test_get_graphical_forecast (api_test.TestSevenTimerAPI.test_get_graphical_forecast) ... ok\n",
            "test_get_machine_readable_forecast_json (api_test.TestSevenTimerAPI.test_get_machine_readable_forecast_json) ... ok\n",
            "test_get_machine_readable_forecast_xml (api_test.TestSevenTimerAPI.test_get_machine_readable_forecast_xml) ... ok\n",
            "\n",
            "----------------------------------------------------------------------\n",
            "Ran 3 tests in 2.214s\n",
            "\n",
            "OK\n"
          ]
        }
      ],
      "source": [
        "import unittest\n",
        "\n",
        "# Discover and run the tests\n",
        "loader = unittest.TestLoader()\n",
        "suite = loader.discover(start_dir='.', pattern='api_test.py')\n",
        "\n",
        "runner = unittest.TextTestRunner(verbosity=2)\n",
        "result = runner.run(suite)\n",
        "\n"
      ]
    },
    {
      "cell_type": "code",
      "execution_count": 2,
      "metadata": {},
      "outputs": [
        {
          "name": "stderr",
          "output_type": "stream",
          "text": [
            "..\n",
            "----------------------------------------------------------------------\n",
            "Ran 2 tests in 0.826s\n",
            "\n",
            "OK\n"
          ]
        }
      ],
      "source": [
        "!python -m api_test"
      ]
    },
    {
      "cell_type": "code",
      "execution_count": 3,
      "metadata": {},
      "outputs": [
        {
          "ename": "ImportError",
          "evalue": "'api_test' module incorrectly imported from 'C:\\\\Users\\\\jamie\\\\Documents\\\\GitHub\\\\ToolsForTheJobBenchmark\\\\generation\\\\Weather\\\\awc'. Expected 'c:\\\\Users\\\\jamie\\\\Documents\\\\GitHub\\\\ToolsForTheJobBenchmark\\\\generation\\\\Weather\\\\openmeteo'. Is this module globally installed?",
          "output_type": "error",
          "traceback": [
            "\u001b[1;31m---------------------------------------------------------------------------\u001b[0m",
            "\u001b[1;31mImportError\u001b[0m                               Traceback (most recent call last)",
            "Cell \u001b[1;32mIn[3], line 16\u001b[0m\n\u001b[0;32m     13\u001b[0m loader \u001b[38;5;241m=\u001b[39m unittest\u001b[38;5;241m.\u001b[39mTestLoader()\n\u001b[0;32m     14\u001b[0m \u001b[38;5;66;03m# print(root)\u001b[39;00m\n\u001b[0;32m     15\u001b[0m \u001b[38;5;66;03m# continue\u001b[39;00m\n\u001b[1;32m---> 16\u001b[0m suite \u001b[38;5;241m=\u001b[39m \u001b[43mloader\u001b[49m\u001b[38;5;241;43m.\u001b[39;49m\u001b[43mdiscover\u001b[49m\u001b[43m(\u001b[49m\u001b[43mstart_dir\u001b[49m\u001b[38;5;241;43m=\u001b[39;49m\u001b[43mroot\u001b[49m\u001b[43m,\u001b[49m\u001b[43m \u001b[49m\u001b[43mpattern\u001b[49m\u001b[38;5;241;43m=\u001b[39;49m\u001b[38;5;124;43m'\u001b[39;49m\u001b[38;5;124;43mapi_test.py\u001b[39;49m\u001b[38;5;124;43m'\u001b[39;49m\u001b[43m)\u001b[49m\n\u001b[0;32m     18\u001b[0m \u001b[38;5;66;03m# Create a TextTestRunner that writes to the results file\u001b[39;00m\n\u001b[0;32m     19\u001b[0m runner \u001b[38;5;241m=\u001b[39m unittest\u001b[38;5;241m.\u001b[39mTextTestRunner(stream\u001b[38;5;241m=\u001b[39mresults_file, verbosity\u001b[38;5;241m=\u001b[39m\u001b[38;5;241m2\u001b[39m)\n",
            "File \u001b[1;32mc:\\Users\\jamie\\miniconda3\\Lib\\unittest\\loader.py:322\u001b[0m, in \u001b[0;36mTestLoader.discover\u001b[1;34m(self, start_dir, pattern, top_level_dir)\u001b[0m\n\u001b[0;32m    319\u001b[0m \u001b[38;5;28;01mif\u001b[39;00m is_not_importable:\n\u001b[0;32m    320\u001b[0m     \u001b[38;5;28;01mraise\u001b[39;00m \u001b[38;5;167;01mImportError\u001b[39;00m(\u001b[38;5;124m'\u001b[39m\u001b[38;5;124mStart directory is not importable: \u001b[39m\u001b[38;5;132;01m%r\u001b[39;00m\u001b[38;5;124m'\u001b[39m \u001b[38;5;241m%\u001b[39m start_dir)\n\u001b[1;32m--> 322\u001b[0m tests \u001b[38;5;241m=\u001b[39m \u001b[38;5;28;43mlist\u001b[39;49m\u001b[43m(\u001b[49m\u001b[38;5;28;43mself\u001b[39;49m\u001b[38;5;241;43m.\u001b[39;49m\u001b[43m_find_tests\u001b[49m\u001b[43m(\u001b[49m\u001b[43mstart_dir\u001b[49m\u001b[43m,\u001b[49m\u001b[43m \u001b[49m\u001b[43mpattern\u001b[49m\u001b[43m)\u001b[49m\u001b[43m)\u001b[49m\n\u001b[0;32m    323\u001b[0m \u001b[38;5;28;01mreturn\u001b[39;00m \u001b[38;5;28mself\u001b[39m\u001b[38;5;241m.\u001b[39msuiteClass(tests)\n",
            "File \u001b[1;32mc:\\Users\\jamie\\miniconda3\\Lib\\unittest\\loader.py:377\u001b[0m, in \u001b[0;36mTestLoader._find_tests\u001b[1;34m(self, start_dir, pattern)\u001b[0m\n\u001b[0;32m    375\u001b[0m \u001b[38;5;28;01mfor\u001b[39;00m path \u001b[38;5;129;01min\u001b[39;00m paths:\n\u001b[0;32m    376\u001b[0m     full_path \u001b[38;5;241m=\u001b[39m os\u001b[38;5;241m.\u001b[39mpath\u001b[38;5;241m.\u001b[39mjoin(start_dir, path)\n\u001b[1;32m--> 377\u001b[0m     tests, should_recurse \u001b[38;5;241m=\u001b[39m \u001b[38;5;28;43mself\u001b[39;49m\u001b[38;5;241;43m.\u001b[39;49m\u001b[43m_find_test_path\u001b[49m\u001b[43m(\u001b[49m\u001b[43mfull_path\u001b[49m\u001b[43m,\u001b[49m\u001b[43m \u001b[49m\u001b[43mpattern\u001b[49m\u001b[43m)\u001b[49m\n\u001b[0;32m    378\u001b[0m     \u001b[38;5;28;01mif\u001b[39;00m tests \u001b[38;5;129;01mis\u001b[39;00m \u001b[38;5;129;01mnot\u001b[39;00m \u001b[38;5;28;01mNone\u001b[39;00m:\n\u001b[0;32m    379\u001b[0m         \u001b[38;5;28;01myield\u001b[39;00m tests\n",
            "File \u001b[1;32mc:\\Users\\jamie\\miniconda3\\Lib\\unittest\\loader.py:429\u001b[0m, in \u001b[0;36mTestLoader._find_test_path\u001b[1;34m(self, full_path, pattern)\u001b[0m\n\u001b[0;32m    426\u001b[0m             expected_dir \u001b[38;5;241m=\u001b[39m os\u001b[38;5;241m.\u001b[39mpath\u001b[38;5;241m.\u001b[39mdirname(full_path)\n\u001b[0;32m    427\u001b[0m             msg \u001b[38;5;241m=\u001b[39m (\u001b[38;5;124m\"\u001b[39m\u001b[38;5;132;01m%r\u001b[39;00m\u001b[38;5;124m module incorrectly imported from \u001b[39m\u001b[38;5;132;01m%r\u001b[39;00m\u001b[38;5;124m. Expected \u001b[39m\u001b[38;5;124m\"\u001b[39m\n\u001b[0;32m    428\u001b[0m                    \u001b[38;5;124m\"\u001b[39m\u001b[38;5;132;01m%r\u001b[39;00m\u001b[38;5;124m. Is this module globally installed?\u001b[39m\u001b[38;5;124m\"\u001b[39m)\n\u001b[1;32m--> 429\u001b[0m             \u001b[38;5;28;01mraise\u001b[39;00m \u001b[38;5;167;01mImportError\u001b[39;00m(\n\u001b[0;32m    430\u001b[0m                 msg \u001b[38;5;241m%\u001b[39m (mod_name, module_dir, expected_dir))\n\u001b[0;32m    431\u001b[0m         \u001b[38;5;28;01mreturn\u001b[39;00m \u001b[38;5;28mself\u001b[39m\u001b[38;5;241m.\u001b[39mloadTestsFromModule(module, pattern\u001b[38;5;241m=\u001b[39mpattern), \u001b[38;5;28;01mFalse\u001b[39;00m\n\u001b[0;32m    432\u001b[0m \u001b[38;5;28;01melif\u001b[39;00m os\u001b[38;5;241m.\u001b[39mpath\u001b[38;5;241m.\u001b[39misdir(full_path):\n",
            "\u001b[1;31mImportError\u001b[0m: 'api_test' module incorrectly imported from 'C:\\\\Users\\\\jamie\\\\Documents\\\\GitHub\\\\ToolsForTheJobBenchmark\\\\generation\\\\Weather\\\\awc'. Expected 'c:\\\\Users\\\\jamie\\\\Documents\\\\GitHub\\\\ToolsForTheJobBenchmark\\\\generation\\\\Weather\\\\openmeteo'. Is this module globally installed?"
          ]
        }
      ],
      "source": [
        "import unittest\n",
        "import os\n",
        "\n",
        "# Create or open the results.txt file\n",
        "with open('results.txt', 'w') as results_file:\n",
        "    \n",
        "    # Walk through all subdirectories\n",
        "    for root, dirs, files in os.walk('.'):\n",
        "        \n",
        "        # Check if 'api_test.py' exists in the current directory\n",
        "        if 'api_test.py' in files:\n",
        "            # Discover and run the tests\n",
        "            loader = unittest.TestLoader()\n",
        "            # print(root)\n",
        "            # continue\n",
        "            suite = loader.discover(start_dir=root, pattern='api_test.py')\n",
        "            \n",
        "            # Create a TextTestRunner that writes to the results file\n",
        "            runner = unittest.TextTestRunner(stream=results_file, verbosity=2)\n",
        "            result = runner.run(suite)\n",
        "            \n",
        "            # Add a separator between different test results\n",
        "            results_file.write(\"\\n\" + \"=\"*70 + \"\\n\")\n",
        "\n",
        "print(\"Test results have been written to results.txt\")\n"
      ]
    },
    {
      "cell_type": "code",
      "execution_count": null,
      "metadata": {},
      "outputs": [],
      "source": [
        "import unittest\n",
        "import os\n",
        "import sys\n",
        "\n",
        "# Create or open the results.txt file\n",
        "with open('results.txt', 'w') as results_file:\n",
        "    \n",
        "    # Walk through all subdirectories\n",
        "    for root, dirs, files in os.walk('.'):\n",
        "        \n",
        "        # Check if 'api_test.py' exists in the current directory\n",
        "        if 'api_test.py' in files:\n",
        "            # Add the current directory to sys.path to avoid import errors\n",
        "            sys.path.insert(0, root)\n",
        "            \n",
        "            try:\n",
        "                # Discover and run the tests\n",
        "                loader = unittest.TestLoader()\n",
        "                suite = loader.discover(start_dir=root, pattern='api_test.py')\n",
        "                \n",
        "                # Create a TextTestRunner that writes to the results file\n",
        "                runner = unittest.TextTestRunner(stream=results_file, verbosity=2)\n",
        "                result = runner.run(suite)\n",
        "                \n",
        "                # Add a separator between different test results\n",
        "                results_file.write(\"\\n\" + \"=\"*70 + \"\\n\")\n",
        "            \n",
        "            finally:\n",
        "                # Clean up sys.path to avoid interference with other tests\n",
        "                sys.path.pop(0)\n",
        "\n",
        "print(\"Test results have been written to results.txt\")\n"
      ]
    }
  ],
  "metadata": {
    "kernelspec": {
      "display_name": "base",
      "language": "python",
      "name": "python3"
    },
    "language_info": {
      "codemirror_mode": {
        "name": "ipython",
        "version": 3
      },
      "file_extension": ".py",
      "mimetype": "text/x-python",
      "name": "python",
      "nbconvert_exporter": "python",
      "pygments_lexer": "ipython3",
      "version": "3.10.0"
    }
  },
  "nbformat": 4,
  "nbformat_minor": 2
}
