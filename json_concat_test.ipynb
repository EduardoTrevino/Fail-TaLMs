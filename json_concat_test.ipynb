{
 "cells": [
  {
   "cell_type": "code",
   "execution_count": 1,
   "metadata": {},
   "outputs": [
    {
     "name": "stdout",
     "output_type": "stream",
     "text": [
      "Master JSON file created with 65 entries at queries/concat_v1.json\n"
     ]
    }
   ],
   "source": [
    "import os\n",
    "import json\n",
    "\n",
    "# Define the base path to the queries folder\n",
    "base_path = 'queries'\n",
    "\n",
    "# List to hold all the JSON data\n",
    "all_data = []\n",
    "\n",
    "# Function to load JSON files from the folder\n",
    "def load_json_files(folder_path):\n",
    "    for root, dirs, files in os.walk(folder_path):\n",
    "        for file in files:\n",
    "            if file.endswith('.json'):\n",
    "                file_path = os.path.join(root, file)\n",
    "                with open(file_path, 'r') as f:\n",
    "                    data = json.load(f)\n",
    "                    all_data.extend(data)\n",
    "\n",
    "# Start the recursive search from the base path\n",
    "load_json_files(base_path)\n",
    "\n",
    "# Save the concatenated data to a master JSON file\n",
    "master_json_path = os.path.join(base_path, 'concat_v1.json')\n",
    "with open(master_json_path, 'w') as master_file:\n",
    "    json.dump(all_data, master_file, indent=4)\n",
    "\n",
    "print(f'Master JSON file created with {len(all_data)} entries at {master_json_path}')"
   ]
  }
 ],
 "metadata": {
  "language_info": {
   "name": "python"
  }
 },
 "nbformat": 4,
 "nbformat_minor": 2
}
