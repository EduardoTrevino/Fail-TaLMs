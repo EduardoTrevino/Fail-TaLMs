{
 "cells": [
  {
   "cell_type": "code",
   "execution_count": 1,
   "metadata": {},
   "outputs": [
    {
     "name": "stderr",
     "output_type": "stream",
     "text": [
      "test_person_cast_credits (api_test.TestTvMazeAPI) ... ok\n",
      "test_person_crew_credits (api_test.TestTvMazeAPI) ... FAIL\n",
      "test_person_main_information (api_test.TestTvMazeAPI) ... ok\n",
      "test_schedule (api_test.TestTvMazeAPI) ... ok\n",
      "test_search_people (api_test.TestTvMazeAPI) ... ok\n",
      "test_search_shows (api_test.TestTvMazeAPI) ... ok\n",
      "test_season_episodes (api_test.TestTvMazeAPI) ... ok\n",
      "test_show_episode_list (api_test.TestTvMazeAPI) ... ok\n",
      "test_show_lookup (api_test.TestTvMazeAPI) ... ok\n",
      "test_show_main_information (api_test.TestTvMazeAPI) ... ok\n",
      "test_show_seasons (api_test.TestTvMazeAPI) ... ok\n",
      "test_show_single_search (api_test.TestTvMazeAPI) ... ok\n",
      "test_updates_people (api_test.TestTvMazeAPI) ... ok\n",
      "test_updates_shows (api_test.TestTvMazeAPI) ... ok\n",
      "test_web_schedule (api_test.TestTvMazeAPI) ... ok\n",
      "\n",
      "======================================================================\n",
      "FAIL: test_person_crew_credits (api_test.TestTvMazeAPI)\n",
      "----------------------------------------------------------------------\n",
      "Traceback (most recent call last):\n",
      "  File \"/home/trevea/Projects/ToolsForTheJobBenchmark/generation/Content/tvmaze/api_test.py\", line 69, in test_person_crew_credits\n",
      "    self.assertTrue(len(result) > 0)\n",
      "AssertionError: False is not true\n",
      "\n",
      "----------------------------------------------------------------------\n",
      "Ran 15 tests in 10.611s\n",
      "\n",
      "FAILED (failures=1)\n"
     ]
    }
   ],
   "source": [
    "import unittest\n",
    "\n",
    "# Discover and run the tests\n",
    "loader = unittest.TestLoader()\n",
    "suite = loader.discover(start_dir='.', pattern='api_test.py')\n",
    "\n",
    "runner = unittest.TextTestRunner(verbosity=2)\n",
    "result = runner.run(suite)\n",
    "\n"
   ]
  },
  {
   "cell_type": "code",
   "execution_count": 2,
   "metadata": {},
   "outputs": [
    {
     "name": "stdout",
     "output_type": "stream",
     "text": [
      "FF.............\n",
      "======================================================================\n",
      "FAIL: test_person_cast_credits (__main__.TestTvMazeAPI)\n",
      "----------------------------------------------------------------------\n",
      "Traceback (most recent call last):\n",
      "  File \"/home/trevea/Projects/ToolsForTheJobBenchmark/generation/Content/tvmaze/api_test.py\", line 64, in test_person_cast_credits\n",
      "    self.assertTrue(len(result) > 0)\n",
      "AssertionError: False is not true\n",
      "\n",
      "======================================================================\n",
      "FAIL: test_person_crew_credits (__main__.TestTvMazeAPI)\n",
      "----------------------------------------------------------------------\n",
      "Traceback (most recent call last):\n",
      "  File \"/home/trevea/Projects/ToolsForTheJobBenchmark/generation/Content/tvmaze/api_test.py\", line 69, in test_person_crew_credits\n",
      "    self.assertTrue(len(result) > 0)\n",
      "AssertionError: False is not true\n",
      "\n",
      "----------------------------------------------------------------------\n",
      "Ran 15 tests in 10.007s\n",
      "\n",
      "FAILED (failures=2)\n"
     ]
    }
   ],
   "source": [
    "!python -m api_test\n",
    "# !python -m unittest api_test.TestChroniclingAmericaAPI.test_search_titles\n",
    "# !python -m unittest api_test.TestChroniclingAmericaAPI.test_get_specific_batch_json"
   ]
  }
 ],
 "metadata": {
  "kernelspec": {
   "display_name": "toolbench",
   "language": "python",
   "name": "toolbench"
  },
  "language_info": {
   "codemirror_mode": {
    "name": "ipython",
    "version": 3
   },
   "file_extension": ".py",
   "mimetype": "text/x-python",
   "name": "python",
   "nbconvert_exporter": "python",
   "pygments_lexer": "ipython3",
   "version": "3.10.14"
  }
 },
 "nbformat": 4,
 "nbformat_minor": 4
}
