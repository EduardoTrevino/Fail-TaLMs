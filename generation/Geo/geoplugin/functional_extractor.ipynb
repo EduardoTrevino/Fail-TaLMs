{
 "cells": [
  {
   "cell_type": "code",
   "execution_count": 1,
   "metadata": {},
   "outputs": [
    {
     "name": "stderr",
     "output_type": "stream",
     "text": [
      "test_mass_geocode_csv (api_test.TestAdresseAPI) ... ERROR\n",
      "test_mass_reverse_geocode_csv (api_test.TestAdresseAPI) ... ERROR\n",
      "test_reverse_geocode (api_test.TestAdresseAPI) ... ok\n",
      "test_search_address (api_test.TestAdresseAPI) ... ok\n",
      "\n",
      "======================================================================\n",
      "ERROR: test_mass_geocode_csv (api_test.TestAdresseAPI)\n",
      "----------------------------------------------------------------------\n",
      "Traceback (most recent call last):\n",
      "  File \"d:\\Projects\\ToolsForTheJobBenchmark\\generation\\Geo\\adresse\\api_test.py\", line 18, in test_mass_geocode_csv\n",
      "    response = mass_geocode_csv(file_path=\"test_files/search.csv\", columns=['adresse', 'postcode'])\n",
      "  File \"d:\\Projects\\ToolsForTheJobBenchmark\\generation\\Geo\\adresse\\api.py\", line 74, in mass_geocode_csv\n",
      "    files = {'data': open(file_path, 'rb')}\n",
      "FileNotFoundError: [Errno 2] No such file or directory: 'test_files/search.csv'\n",
      "\n",
      "======================================================================\n",
      "ERROR: test_mass_reverse_geocode_csv (api_test.TestAdresseAPI)\n",
      "----------------------------------------------------------------------\n",
      "Traceback (most recent call last):\n",
      "  File \"d:\\Projects\\ToolsForTheJobBenchmark\\generation\\Geo\\adresse\\api_test.py\", line 22, in test_mass_reverse_geocode_csv\n",
      "    response = mass_reverse_geocode_csv(file_path=\"test_files/reverse.csv\")\n",
      "  File \"d:\\Projects\\ToolsForTheJobBenchmark\\generation\\Geo\\adresse\\api.py\", line 105, in mass_reverse_geocode_csv\n",
      "    files = {'data': open(file_path, 'rb')}\n",
      "FileNotFoundError: [Errno 2] No such file or directory: 'test_files/reverse.csv'\n",
      "\n",
      "----------------------------------------------------------------------\n",
      "Ran 4 tests in 0.947s\n",
      "\n",
      "FAILED (errors=2)\n"
     ]
    }
   ],
   "source": [
    "import unittest\n",
    "\n",
    "# Discover and run the tests\n",
    "loader = unittest.TestLoader()\n",
    "suite = loader.discover(start_dir='.', pattern='api_test.py')\n",
    "\n",
    "runner = unittest.TextTestRunner(verbosity=2)\n",
    "result = runner.run(suite)\n",
    "\n"
   ]
  },
  {
   "cell_type": "code",
   "execution_count": 4,
   "metadata": {},
   "outputs": [
    {
     "name": "stdout",
     "output_type": "stream",
     "text": [
      "{'geoplugin_request': '76.125.201.85', 'geoplugin_status': 200, 'geoplugin_delay': '1ms', 'geoplugin_credit': \"Some of the returned data includes GeoLite2 data created by MaxMind, available from <a href='https://www.maxmind.com'>https://www.maxmind.com</a>.\", 'geoplugin_city': 'Pittsburgh', 'geoplugin_region': 'Pennsylvania', 'geoplugin_regionCode': 'PA', 'geoplugin_regionName': 'Pennsylvania', 'geoplugin_areaCode': '', 'geoplugin_dmaCode': '508', 'geoplugin_countryCode': 'US', 'geoplugin_countryName': 'United States', 'geoplugin_inEU': 0, 'geoplugin_euVATrate': False, 'geoplugin_continentCode': 'NA', 'geoplugin_continentName': 'North America', 'geoplugin_latitude': '40.4324', 'geoplugin_longitude': '-79.9247', 'geoplugin_locationAccuracyRadius': '20', 'geoplugin_timezone': 'America/New_York', 'geoplugin_currencyCode': 'USD', 'geoplugin_currencySymbol': '$', 'geoplugin_currencySymbol_UTF8': '$', 'geoplugin_currencyConverter': 0}\n",
      "{'geoplugin_request': '8.8.8.8', 'geoplugin_status': 206, 'geoplugin_delay': '2ms', 'geoplugin_credit': \"Some of the returned data includes GeoLite2 data created by MaxMind, available from <a href='https://www.maxmind.com'>https://www.maxmind.com</a>.\", 'geoplugin_city': '', 'geoplugin_region': '', 'geoplugin_regionCode': '', 'geoplugin_regionName': '', 'geoplugin_areaCode': '', 'geoplugin_dmaCode': '', 'geoplugin_countryCode': 'US', 'geoplugin_countryName': 'United States', 'geoplugin_inEU': 0, 'geoplugin_euVATrate': False, 'geoplugin_continentCode': 'NA', 'geoplugin_continentName': 'North America', 'geoplugin_latitude': '37.751', 'geoplugin_longitude': '-97.822', 'geoplugin_locationAccuracyRadius': '1000', 'geoplugin_timezone': 'America/Chicago', 'geoplugin_currencyCode': 'USD', 'geoplugin_currencySymbol': '$', 'geoplugin_currencySymbol_UTF8': '$', 'geoplugin_currencyConverter': 0}\n"
     ]
    },
    {
     "name": "stderr",
     "output_type": "stream",
     "text": [
      "F.\n",
      "======================================================================\n",
      "FAIL: test_currency_converter (__main__.TestGeoPluginAPI)\n",
      "Test the currency conversion\n",
      "----------------------------------------------------------------------\n",
      "Traceback (most recent call last):\n",
      "  File \"d:\\Projects\\ToolsForTheJobBenchmark\\generation\\Geo\\geoplugin\\api_test.py\", line 24, in test_currency_converter\n",
      "    self.assertIn('geoplugin_baseCurrency', result)\n",
      "AssertionError: 'geoplugin_baseCurrency' not found in {'error': 'Expecting value: line 1 column 1 (char 0)', 'response': '<!DOCTYPE HTML PUBLIC \"-//IETF//DTD HTML 2.0//EN\">\\n<html><head>\\n<title>404 Not Found</title>\\n</head><body>\\n<h1>Not Found</h1>\\n<p>The requested URL was not found on this server.</p>\\n</body></html>\\n'}\n",
      "\n",
      "----------------------------------------------------------------------\n",
      "Ran 2 tests in 0.801s\n",
      "\n",
      "FAILED (failures=1)\n"
     ]
    }
   ],
   "source": [
    "!python -m api_test\n",
    "# !python -m unittest api_test.TestChroniclingAmericaAPI.test_search_titles\n",
    "# !python -m unittest api_test.TestDeckOfCardsAPI.test_list_pile"
   ]
  },
  {
   "cell_type": "code",
   "execution_count": 3,
   "metadata": {},
   "outputs": [
    {
     "name": "stdout",
     "output_type": "stream",
     "text": [
      "{'geoplugin_request': '76.125.201.85', 'geoplugin_status': 200, 'geoplugin_delay': '1ms', 'geoplugin_credit': \"Some of the returned data includes GeoLite2 data created by MaxMind, available from <a href='https://www.maxmind.com'>https://www.maxmind.com</a>.\", 'geoplugin_city': 'Pittsburgh', 'geoplugin_region': 'Pennsylvania', 'geoplugin_regionCode': 'PA', 'geoplugin_regionName': 'Pennsylvania', 'geoplugin_areaCode': '', 'geoplugin_dmaCode': '508', 'geoplugin_countryCode': 'US', 'geoplugin_countryName': 'United States', 'geoplugin_inEU': 0, 'geoplugin_euVATrate': False, 'geoplugin_continentCode': 'NA', 'geoplugin_continentName': 'North America', 'geoplugin_latitude': '40.4324', 'geoplugin_longitude': '-79.9247', 'geoplugin_locationAccuracyRadius': '20', 'geoplugin_timezone': 'America/New_York', 'geoplugin_currencyCode': 'USD', 'geoplugin_currencySymbol': '$', 'geoplugin_currencySymbol_UTF8': '$', 'geoplugin_currencyConverter': 0}\n",
      "0\n",
      "{'base_currency': 'USD', 'amount': 100, 'target_currency': 'EUR', 'exchange_rate': 0, 'converted_amount': 0}\n"
     ]
    }
   ],
   "source": [
    "import requests\n",
    "from typing import Dict\n",
    "\n",
    "def currency_converter(base_currency: str = 'EUR', amount: float = 1.0, target_currency: str = 'EUR') -> Dict:\n",
    "    \"\"\"\n",
    "    Converts an amount from a base currency to a target currency using geoPlugin's exchange rate.\n",
    "\n",
    "    Parameters:\n",
    "    - base_currency [Optional]: string [Description: The currency code of the base currency.]\n",
    "    - amount [Optional]: float [Description: The amount of base currency to convert.]\n",
    "    - target_currency [Optional]: string [Description: The currency code into which to convert the base currency.]\n",
    "    \"\"\"\n",
    "    # geoPlugin URL for currency conversion\n",
    "    url = f\"http://www.geoplugin.net/json.gp?base_currency={base_currency}\"\n",
    "    \n",
    "    response = requests.get(url)\n",
    "    try:\n",
    "        data = response.json()\n",
    "        print(data)\n",
    "        # The exchange rate from the base currency to the target currency\n",
    "        exchange_rate = data.get('geoplugin_currencyConverter', None)\n",
    "        print(exchange_rate)\n",
    "        if exchange_rate is not None:\n",
    "            # Calculate the converted amount\n",
    "            converted_amount = exchange_rate * amount\n",
    "            return {\n",
    "                \"base_currency\": base_currency,\n",
    "                \"amount\": amount,\n",
    "                \"target_currency\": target_currency,\n",
    "                \"exchange_rate\": exchange_rate,\n",
    "                \"converted_amount\": converted_amount\n",
    "            }\n",
    "        else:\n",
    "            return {\"error\": \"Exchange rate not found in response\", \"response\": data}\n",
    "    except Exception as e:\n",
    "        return {\"error\": str(e), \"response\": response.text}\n",
    "\n",
    "# Example usage\n",
    "result = currency_converter(base_currency='USD', amount=100, target_currency='EUR')\n",
    "print(result)"
   ]
  }
 ],
 "metadata": {
  "kernelspec": {
   "display_name": "Python 3",
   "language": "python",
   "name": "python3"
  },
  "language_info": {
   "codemirror_mode": {
    "name": "ipython",
    "version": 3
   },
   "file_extension": ".py",
   "mimetype": "text/x-python",
   "name": "python",
   "nbconvert_exporter": "python",
   "pygments_lexer": "ipython3",
   "version": "3.10.0"
  }
 },
 "nbformat": 4,
 "nbformat_minor": 4
}
