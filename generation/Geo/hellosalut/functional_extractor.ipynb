{
 "cells": [
  {
   "cell_type": "code",
   "execution_count": 1,
   "metadata": {},
   "outputs": [
    {
     "name": "stderr",
     "output_type": "stream",
     "text": [
      "test_hello_auto_mode (api_test.TestHelloSalutAPI) ... ok\n",
      "test_hello_with_country_code (api_test.TestHelloSalutAPI) ... ok\n",
      "test_hello_with_ip (api_test.TestHelloSalutAPI) ... ok\n",
      "test_hello_with_language (api_test.TestHelloSalutAPI) ... ok\n",
      "test_hello_with_no_params (api_test.TestHelloSalutAPI) ... FAIL\n",
      "\n",
      "======================================================================\n",
      "FAIL: test_hello_with_no_params (api_test.TestHelloSalutAPI)\n",
      "----------------------------------------------------------------------\n",
      "Traceback (most recent call last):\n",
      "  File \"d:\\Projects\\ToolsForTheJobBenchmark\\generation\\Geo\\hellosalut\\api_test.py\", line 24, in test_hello_with_no_params\n",
      "    self.assertIn('hello', response)\n",
      "AssertionError: 'hello' not found in {'error': 'Expecting value: line 1 column 1 (char 0)', 'response': \"Please see <a href='https://stefanbohacek.com/project/hellosalut-api/'>https://stefanbohacek.com/project/hellosalut-api/</a> for details on how to use this service.\"}\n",
      "\n",
      "----------------------------------------------------------------------\n",
      "Ran 5 tests in 1.041s\n",
      "\n",
      "FAILED (failures=1)\n"
     ]
    }
   ],
   "source": [
    "import unittest\n",
    "\n",
    "# Discover and run the tests\n",
    "loader = unittest.TestLoader()\n",
    "suite = loader.discover(start_dir='.', pattern='api_test.py')\n",
    "\n",
    "runner = unittest.TextTestRunner(verbosity=2)\n",
    "result = runner.run(suite)\n",
    "\n"
   ]
  },
  {
   "cell_type": "code",
   "execution_count": 7,
   "metadata": {},
   "outputs": [
    {
     "name": "stdout",
     "output_type": "stream",
     "text": [
      "{'geoplugin_request': '76.125.201.85', 'geoplugin_status': 200, 'geoplugin_delay': '1ms', 'geoplugin_credit': \"Some of the returned data includes GeoLite2 data created by MaxMind, available from <a href='https://www.maxmind.com'>https://www.maxmind.com</a>.\", 'geoplugin_city': 'Pittsburgh', 'geoplugin_region': 'Pennsylvania', 'geoplugin_regionCode': 'PA', 'geoplugin_regionName': 'Pennsylvania', 'geoplugin_areaCode': '', 'geoplugin_dmaCode': '508', 'geoplugin_countryCode': 'US', 'geoplugin_countryName': 'United States', 'geoplugin_inEU': 0, 'geoplugin_euVATrate': False, 'geoplugin_continentCode': 'NA', 'geoplugin_continentName': 'North America', 'geoplugin_latitude': '40.4324', 'geoplugin_longitude': '-79.9247', 'geoplugin_locationAccuracyRadius': '20', 'geoplugin_timezone': 'America/New_York', 'geoplugin_currencyCode': 'USD', 'geoplugin_currencySymbol': '$', 'geoplugin_currencySymbol_UTF8': '$', 'geoplugin_currencyConverter': 0}\n",
      "{'geoplugin_request': '8.8.8.8', 'geoplugin_status': 206, 'geoplugin_delay': '2ms', 'geoplugin_credit': \"Some of the returned data includes GeoLite2 data created by MaxMind, available from <a href='https://www.maxmind.com'>https://www.maxmind.com</a>.\", 'geoplugin_city': '', 'geoplugin_region': '', 'geoplugin_regionCode': '', 'geoplugin_regionName': '', 'geoplugin_areaCode': '', 'geoplugin_dmaCode': '', 'geoplugin_countryCode': 'US', 'geoplugin_countryName': 'United States', 'geoplugin_inEU': 0, 'geoplugin_euVATrate': False, 'geoplugin_continentCode': 'NA', 'geoplugin_continentName': 'North America', 'geoplugin_latitude': '37.751', 'geoplugin_longitude': '-97.822', 'geoplugin_locationAccuracyRadius': '1000', 'geoplugin_timezone': 'America/Chicago', 'geoplugin_currencyCode': 'USD', 'geoplugin_currencySymbol': '$', 'geoplugin_currencySymbol_UTF8': '$', 'geoplugin_currencyConverter': 0}\n"
     ]
    },
    {
     "name": "stderr",
     "output_type": "stream",
     "text": [
      "..\n",
      "----------------------------------------------------------------------\n",
      "Ran 2 tests in 0.820s\n",
      "\n",
      "OK\n"
     ]
    }
   ],
   "source": [
    "!python -m api_test\n",
    "# !python -m unittest api_test.TestChroniclingAmericaAPI.test_search_titles\n",
    "# !python -m unittest api_test.TestDeckOfCardsAPI.test_list_pile"
   ]
  },
  {
   "cell_type": "code",
   "execution_count": 6,
   "metadata": {},
   "outputs": [
    {
     "name": "stdout",
     "output_type": "stream",
     "text": [
      "{'base_currency': 'USD', 'amount': 100, 'local_currency': 'USD', 'local_currency_symbol': '$', 'exchange_rate': 0, 'converted_amount': 0, 'location': {'city': 'Pittsburgh', 'country': 'United States'}}\n"
     ]
    }
   ],
   "source": [
    "import requests\n",
    "from typing import Dict\n",
    "\n",
    "def currency_converter(base_currency: str = 'USD', amount: float = 1.0) -> Dict:\n",
    "    \"\"\"\n",
    "    Converts an amount from a base currency to the local currency based on the user's IP address using geoPlugin's exchange rate.\n",
    "\n",
    "    Parameters:\n",
    "    - base_currency [Optional]: string [Description: The currency code of the base currency. Defaults to 'USD'.]\n",
    "    - amount [Optional]: float [Description: The amount of base currency to convert. Defaults to 1.0.]\n",
    "\n",
    "    Returns:\n",
    "    - A dictionary containing details about the location, the exchange rate, and the converted amount in the local currency.\n",
    "    \"\"\"\n",
    "    # geoPlugin URL for currency conversion and geolocation based on IP\n",
    "    url = f\"http://www.geoplugin.net/json.gp?base_currency={base_currency}\"\n",
    "    \n",
    "    response = requests.get(url)\n",
    "    try:\n",
    "        data = response.json()\n",
    "\n",
    "        # Extract necessary information from the response\n",
    "        exchange_rate = data.get('geoplugin_currencyConverter', 1)\n",
    "        local_currency_code = data.get('geoplugin_currencyCode', 'USD')\n",
    "        local_currency_symbol = data.get('geoplugin_currencySymbol', '$')\n",
    "        city = data.get('geoplugin_city', 'Unknown city')\n",
    "        country = data.get('geoplugin_countryName', 'Unknown country')\n",
    "\n",
    "        # Calculate the converted amount\n",
    "        converted_amount = exchange_rate * amount\n",
    "\n",
    "        return {\n",
    "            \"base_currency\": base_currency,\n",
    "            \"amount\": amount,\n",
    "            \"local_currency\": local_currency_code,\n",
    "            \"local_currency_symbol\": local_currency_symbol,\n",
    "            \"exchange_rate\": exchange_rate,\n",
    "            \"converted_amount\": converted_amount,\n",
    "            \"location\": {\n",
    "                \"city\": city,\n",
    "                \"country\": country\n",
    "            }\n",
    "        }\n",
    "    except Exception as e:\n",
    "        return {\"error\": str(e), \"response\": response.text}\n",
    "\n",
    "# Example usage\n",
    "result = currency_converter(base_currency='USD', amount=100)\n",
    "print(result)"
   ]
  }
 ],
 "metadata": {
  "kernelspec": {
   "display_name": "Python 3",
   "language": "python",
   "name": "python3"
  },
  "language_info": {
   "codemirror_mode": {
    "name": "ipython",
    "version": 3
   },
   "file_extension": ".py",
   "mimetype": "text/x-python",
   "name": "python",
   "nbconvert_exporter": "python",
   "pygments_lexer": "ipython3",
   "version": "3.10.0"
  }
 },
 "nbformat": 4,
 "nbformat_minor": 4
}
