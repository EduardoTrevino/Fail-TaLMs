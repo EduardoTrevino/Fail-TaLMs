{
 "cells": [
  {
   "cell_type": "code",
   "execution_count": 1,
   "metadata": {},
   "outputs": [
    {
     "name": "stderr",
     "output_type": "stream",
     "text": [
      "test_mass_geocode_csv (api_test.TestAdresseAPI) ... ERROR\n",
      "test_mass_reverse_geocode_csv (api_test.TestAdresseAPI) ... ERROR\n",
      "test_reverse_geocode (api_test.TestAdresseAPI) ... ok\n",
      "test_search_address (api_test.TestAdresseAPI) ... ok\n",
      "\n",
      "======================================================================\n",
      "ERROR: test_mass_geocode_csv (api_test.TestAdresseAPI)\n",
      "----------------------------------------------------------------------\n",
      "Traceback (most recent call last):\n",
      "  File \"d:\\Projects\\ToolsForTheJobBenchmark\\generation\\Geo\\adresse\\api_test.py\", line 18, in test_mass_geocode_csv\n",
      "    response = mass_geocode_csv(file_path=\"test_files/search.csv\", columns=['adresse', 'postcode'])\n",
      "  File \"d:\\Projects\\ToolsForTheJobBenchmark\\generation\\Geo\\adresse\\api.py\", line 74, in mass_geocode_csv\n",
      "    files = {'data': open(file_path, 'rb')}\n",
      "FileNotFoundError: [Errno 2] No such file or directory: 'test_files/search.csv'\n",
      "\n",
      "======================================================================\n",
      "ERROR: test_mass_reverse_geocode_csv (api_test.TestAdresseAPI)\n",
      "----------------------------------------------------------------------\n",
      "Traceback (most recent call last):\n",
      "  File \"d:\\Projects\\ToolsForTheJobBenchmark\\generation\\Geo\\adresse\\api_test.py\", line 22, in test_mass_reverse_geocode_csv\n",
      "    response = mass_reverse_geocode_csv(file_path=\"test_files/reverse.csv\")\n",
      "  File \"d:\\Projects\\ToolsForTheJobBenchmark\\generation\\Geo\\adresse\\api.py\", line 105, in mass_reverse_geocode_csv\n",
      "    files = {'data': open(file_path, 'rb')}\n",
      "FileNotFoundError: [Errno 2] No such file or directory: 'test_files/reverse.csv'\n",
      "\n",
      "----------------------------------------------------------------------\n",
      "Ran 4 tests in 0.947s\n",
      "\n",
      "FAILED (errors=2)\n"
     ]
    }
   ],
   "source": [
    "import unittest\n",
    "\n",
    "# Discover and run the tests\n",
    "loader = unittest.TestLoader()\n",
    "suite = loader.discover(start_dir='.', pattern='api_test.py')\n",
    "\n",
    "runner = unittest.TextTestRunner(verbosity=2)\n",
    "result = runner.run(suite)\n",
    "\n"
   ]
  },
  {
   "cell_type": "code",
   "execution_count": 1,
   "metadata": {},
   "outputs": [
    {
     "name": "stderr",
     "output_type": "stream",
     "text": [
      "..F\n",
      "======================================================================\n",
      "FAIL: test_get_data_sources_info (__main__.TestCountryIsApi)\n",
      "----------------------------------------------------------------------\n",
      "Traceback (most recent call last):\n",
      "  File \"d:\\Projects\\ToolsForTheJobBenchmark\\generation\\Geo\\countryis\\api_test.py\", line 23, in test_get_data_sources_info\n",
      "    self.assertIn('cloudflare', result)\n",
      "AssertionError: 'cloudflare' not found in {'dataSources': ['maxmind', 'cloudflare'], 'lastUpdated': '2024-08-20T18:34:36.000Z'}\n",
      "\n",
      "----------------------------------------------------------------------\n",
      "Ran 3 tests in 2.110s\n",
      "\n",
      "FAILED (failures=1)\n"
     ]
    }
   ],
   "source": [
    "!python -m api_test\n",
    "# !python -m unittest api_test.TestChroniclingAmericaAPI.test_search_titles\n",
    "# !python -m unittest api_test.TestDeckOfCardsAPI.test_list_pile"
   ]
  }
 ],
 "metadata": {
  "kernelspec": {
   "display_name": "Python 3",
   "language": "python",
   "name": "python3"
  },
  "language_info": {
   "codemirror_mode": {
    "name": "ipython",
    "version": 3
   },
   "file_extension": ".py",
   "mimetype": "text/x-python",
   "name": "python",
   "nbconvert_exporter": "python",
   "pygments_lexer": "ipython3",
   "version": "3.10.0"
  }
 },
 "nbformat": 4,
 "nbformat_minor": 4
}
