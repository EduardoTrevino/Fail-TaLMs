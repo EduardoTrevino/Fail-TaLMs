{
 "cells": [
  {
   "cell_type": "code",
   "execution_count": 1,
   "metadata": {},
   "outputs": [
    {
     "name": "stderr",
     "output_type": "stream",
     "text": [
      "test_card_named_exact (api_test.TestScryfallAPI) ... ok\n",
      "test_card_named_fuzzy (api_test.TestScryfallAPI) ... FAIL\n",
      "test_card_random (api_test.TestScryfallAPI) ... ok\n",
      "test_card_search (api_test.TestScryfallAPI) ... ok\n",
      "test_cards_autocomplete (api_test.TestScryfallAPI) ... ok\n",
      "\n",
      "======================================================================\n",
      "FAIL: test_card_named_fuzzy (api_test.TestScryfallAPI)\n",
      "----------------------------------------------------------------------\n",
      "Traceback (most recent call last):\n",
      "  File \"d:\\Projects\\ToolsForTheJobBenchmark\\generation\\Games\\scryfall\\api_test.py\", line 16, in test_card_named_fuzzy\n",
      "    self.assertEqual(result.get(\"name\"), \"Black Lotus\")\n",
      "AssertionError: None != 'Black Lotus'\n",
      "\n",
      "----------------------------------------------------------------------\n",
      "Ran 5 tests in 1.541s\n",
      "\n",
      "FAILED (failures=1)\n"
     ]
    }
   ],
   "source": [
    "import unittest\n",
    "\n",
    "# Discover and run the tests\n",
    "loader = unittest.TestLoader()\n",
    "suite = loader.discover(start_dir='.', pattern='api_test.py')\n",
    "\n",
    "runner = unittest.TextTestRunner(verbosity=2)\n",
    "result = runner.run(suite)\n",
    "\n"
   ]
  },
  {
   "cell_type": "code",
   "execution_count": 2,
   "metadata": {},
   "outputs": [],
   "source": [
    "!python -m api_test\n",
    "# !python -m unittest api_test.TestChroniclingAmericaAPI.test_search_titles\n",
    "# !python -m unittest api_test.TestDeckOfCardsAPI.test_list_pile"
   ]
  }
 ],
 "metadata": {
  "kernelspec": {
   "display_name": "Python 3",
   "language": "python",
   "name": "python3"
  },
  "language_info": {
   "codemirror_mode": {
    "name": "ipython",
    "version": 3
   },
   "file_extension": ".py",
   "mimetype": "text/x-python",
   "name": "python",
   "nbconvert_exporter": "python",
   "pygments_lexer": "ipython3",
   "version": "3.10.0"
  }
 },
 "nbformat": 4,
 "nbformat_minor": 4
}
