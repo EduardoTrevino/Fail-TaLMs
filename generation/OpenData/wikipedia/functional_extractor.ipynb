{
 "cells": [
  {
   "cell_type": "code",
   "execution_count": 1,
   "metadata": {},
   "outputs": [
    {
     "name": "stderr",
     "output_type": "stream",
     "text": [
      "test_get_location_by_zip_invalid (api_test.TestZiptasticAPI) ... ok\n",
      "test_get_location_by_zip_valid (api_test.TestZiptasticAPI) ... ok\n",
      "\n",
      "----------------------------------------------------------------------\n",
      "Ran 2 tests in 0.762s\n",
      "\n",
      "OK\n"
     ]
    }
   ],
   "source": [
    "import unittest\n",
    "\n",
    "# Discover and run the tests\n",
    "loader = unittest.TestLoader()\n",
    "suite = loader.discover(start_dir='.', pattern='api_test.py')\n",
    "\n",
    "runner = unittest.TextTestRunner(verbosity=2)\n",
    "result = runner.run(suite)\n",
    "\n"
   ]
  },
  {
   "cell_type": "code",
   "execution_count": 1,
   "metadata": {},
   "outputs": [
    {
     "name": "stderr",
     "output_type": "stream",
     "text": [
      "FFFFFFFFF\n",
      "======================================================================\n",
      "FAIL: test_get_category_metrics (__main__.TestWikipediaAPI)\n",
      "----------------------------------------------------------------------\n",
      "Traceback (most recent call last):\n",
      "  File \"d:\\Projects\\ToolsForTheJobBenchmark\\generation\\OpenData\\wikipedia\\api_test.py\", line 8, in test_get_category_metrics\n",
      "    self.assertIn('data', response)\n",
      "AssertionError: 'data' not found in {'type': 'https://mediawiki.org/wiki/HyperSwitch/errors/not_found#route', 'title': 'Not found.', 'method': 'get', 'uri': '/wikimedia.org/v1/commons-analytics/category-metrics-snapshot/example-category/2022-01-01/2022-02-01'}\n",
      "\n",
      "======================================================================\n",
      "FAIL: test_get_edits_aggregate (__main__.TestWikipediaAPI)\n",
      "----------------------------------------------------------------------\n",
      "Traceback (most recent call last):\n",
      "  File \"d:\\Projects\\ToolsForTheJobBenchmark\\generation\\OpenData\\wikipedia\\api_test.py\", line 36, in test_get_edits_aggregate\n",
      "    self.assertIn('data', response)\n",
      "AssertionError: 'data' not found in {'type': 'https://mediawiki.org/wiki/HyperSwitch/errors/not_found#route', 'title': 'Not found.', 'method': 'get', 'uri': '/wikimedia.org/v1/edits/aggregate/en.wikipedia/anonymous/all-page-types/daily/20230101/20230131'}\n",
      "\n",
      "======================================================================\n",
      "FAIL: test_get_edits_per_category (__main__.TestWikipediaAPI)\n",
      "----------------------------------------------------------------------\n",
      "Traceback (most recent call last):\n",
      "  File \"d:\\Projects\\ToolsForTheJobBenchmark\\generation\\OpenData\\wikipedia\\api_test.py\", line 12, in test_get_edits_per_category\n",
      "    self.assertIn('data', response)\n",
      "AssertionError: 'data' not found in {'type': 'https://mediawiki.org/wiki/HyperSwitch/errors/not_found#route', 'title': 'Not found.', 'method': 'get', 'uri': '/wikimedia.org/v1/commons-analytics/edits-per-category-monthly/example-category/inclusive/all-editor-types/2022-01-01/2022-02-01'}\n",
      "\n",
      "======================================================================\n",
      "FAIL: test_get_pageviews_aggregate (__main__.TestWikipediaAPI)\n",
      "----------------------------------------------------------------------\n",
      "Traceback (most recent call last):\n",
      "  File \"d:\\Projects\\ToolsForTheJobBenchmark\\generation\\OpenData\\wikipedia\\api_test.py\", line 40, in test_get_pageviews_aggregate\n",
      "    self.assertIn('data', response)\n",
      "AssertionError: 'data' not found in {'type': 'https://mediawiki.org/wiki/HyperSwitch/errors/not_found#route', 'title': 'Not found.', 'method': 'get', 'uri': '/wikimedia.org/v1/pageviews/aggregate/en.wikipedia/all-access/all-agents/daily/20230101/20230131'}\n",
      "\n",
      "======================================================================\n",
      "FAIL: test_get_pageviews_per_category (__main__.TestWikipediaAPI)\n",
      "----------------------------------------------------------------------\n",
      "Traceback (most recent call last):\n",
      "  File \"d:\\Projects\\ToolsForTheJobBenchmark\\generation\\OpenData\\wikipedia\\api_test.py\", line 16, in test_get_pageviews_per_category\n",
      "    self.assertIn('data', response)\n",
      "AssertionError: 'data' not found in {'type': 'https://mediawiki.org/wiki/HyperSwitch/errors/not_found#route', 'title': 'Not found.', 'method': 'get', 'uri': '/wikimedia.org/v1/commons-analytics/pageviews-per-category-monthly/example-category/inclusive/en.wikipedia/2022-01-01/2022-02-01'}\n",
      "\n",
      "======================================================================\n",
      "FAIL: test_get_top_edited_categories (__main__.TestWikipediaAPI)\n",
      "----------------------------------------------------------------------\n",
      "Traceback (most recent call last):\n",
      "  File \"d:\\Projects\\ToolsForTheJobBenchmark\\generation\\OpenData\\wikipedia\\api_test.py\", line 20, in test_get_top_edited_categories\n",
      "    self.assertIn('data', response)\n",
      "AssertionError: 'data' not found in {'type': 'https://mediawiki.org/wiki/HyperSwitch/errors/not_found#route', 'title': 'Not found.', 'method': 'get', 'uri': '/wikimedia.org/v1/commons-analytics/top-edited-categories-monthly/inclusive/all-editor-types/2023/1'}\n",
      "\n",
      "======================================================================\n",
      "FAIL: test_get_top_pages_per_category (__main__.TestWikipediaAPI)\n",
      "----------------------------------------------------------------------\n",
      "Traceback (most recent call last):\n",
      "  File \"d:\\Projects\\ToolsForTheJobBenchmark\\generation\\OpenData\\wikipedia\\api_test.py\", line 28, in test_get_top_pages_per_category\n",
      "    self.assertIn('data', response)\n",
      "AssertionError: 'data' not found in {'type': 'https://mediawiki.org/wiki/HyperSwitch/errors/not_found#route', 'title': 'Not found.', 'method': 'get', 'uri': '/wikimedia.org/v1/commons-analytics/top-pages-per-category-monthly/example-category/inclusive/en.wikipedia/2023/1'}\n",
      "\n",
      "======================================================================\n",
      "FAIL: test_get_top_viewed_categories (__main__.TestWikipediaAPI)\n",
      "----------------------------------------------------------------------\n",
      "Traceback (most recent call last):\n",
      "  File \"d:\\Projects\\ToolsForTheJobBenchmark\\generation\\OpenData\\wikipedia\\api_test.py\", line 24, in test_get_top_viewed_categories\n",
      "    self.assertIn('data', response)\n",
      "AssertionError: 'data' not found in {'type': 'https://mediawiki.org/wiki/HyperSwitch/errors/not_found#route', 'title': 'Not found.', 'method': 'get', 'uri': '/wikimedia.org/v1/commons-analytics/top-viewed-categories-monthly/inclusive/en.wikipedia/2023/1'}\n",
      "\n",
      "======================================================================\n",
      "FAIL: test_get_unique_devices (__main__.TestWikipediaAPI)\n",
      "----------------------------------------------------------------------\n",
      "Traceback (most recent call last):\n",
      "  File \"d:\\Projects\\ToolsForTheJobBenchmark\\generation\\OpenData\\wikipedia\\api_test.py\", line 32, in test_get_unique_devices\n",
      "    self.assertIn('data', response)\n",
      "AssertionError: 'data' not found in {'type': 'https://mediawiki.org/wiki/HyperSwitch/errors/not_found#route', 'title': 'Not found.', 'method': 'get', 'uri': '/wikimedia.org/v1/unique-devices/en.wikipedia/desktop/daily/20230101/20230131'}\n",
      "\n",
      "----------------------------------------------------------------------\n",
      "Ran 9 tests in 2.005s\n",
      "\n",
      "FAILED (failures=9)\n"
     ]
    }
   ],
   "source": [
    "!python -m api_test\n",
    "# !python -m unittest api_test.TestChroniclingAmericaAPI.test_search_titles\n",
    "# !python -m unittest api_test.TestDeckOfCardsAPI.test_list_pile"
   ]
  }
 ],
 "metadata": {
  "kernelspec": {
   "display_name": "Python 3",
   "language": "python",
   "name": "python3"
  },
  "language_info": {
   "codemirror_mode": {
    "name": "ipython",
    "version": 3
   },
   "file_extension": ".py",
   "mimetype": "text/x-python",
   "name": "python",
   "nbconvert_exporter": "python",
   "pygments_lexer": "ipython3",
   "version": "3.10.0"
  }
 },
 "nbformat": 4,
 "nbformat_minor": 4
}
