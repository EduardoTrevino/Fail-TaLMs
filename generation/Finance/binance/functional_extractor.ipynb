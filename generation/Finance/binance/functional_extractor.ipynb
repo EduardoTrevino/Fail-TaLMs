{
 "cells": [
  {
   "cell_type": "code",
   "execution_count": 2,
   "metadata": {},
   "outputs": [
    {
     "name": "stderr",
     "output_type": "stream",
     "text": [
      "test_decode_uuid (api_test.TestUUIDandGUIDGenAPI.test_decode_uuid) ... ok\n",
      "test_generate_timestamp_first_uuid (api_test.TestUUIDandGUIDGenAPI.test_generate_timestamp_first_uuid) ... ok\n",
      "test_generate_v1_uuid (api_test.TestUUIDandGUIDGenAPI.test_generate_v1_uuid) ... ok\n",
      "test_generate_v3_uuid (api_test.TestUUIDandGUIDGenAPI.test_generate_v3_uuid) ... FAIL\n",
      "test_generate_v4_uuid (api_test.TestUUIDandGUIDGenAPI.test_generate_v4_uuid) ... ok\n",
      "test_generate_v5_uuid (api_test.TestUUIDandGUIDGenAPI.test_generate_v5_uuid) ... FAIL\n",
      "\n",
      "======================================================================\n",
      "FAIL: test_generate_v3_uuid (api_test.TestUUIDandGUIDGenAPI.test_generate_v3_uuid)\n",
      "----------------------------------------------------------------------\n",
      "Traceback (most recent call last):\n",
      "  File \"/home/trevea/Projects/ToolsForTheJobBenchmark/generation/FakeData/uuidandguidgen/api_test.py\", line 21, in test_generate_v3_uuid\n",
      "    self.assertTrue(isinstance(result, str))\n",
      "AssertionError: False is not true\n",
      "\n",
      "======================================================================\n",
      "FAIL: test_generate_v5_uuid (api_test.TestUUIDandGUIDGenAPI.test_generate_v5_uuid)\n",
      "----------------------------------------------------------------------\n",
      "Traceback (most recent call last):\n",
      "  File \"/home/trevea/Projects/ToolsForTheJobBenchmark/generation/FakeData/uuidandguidgen/api_test.py\", line 32, in test_generate_v5_uuid\n",
      "    self.assertTrue(isinstance(result, str))\n",
      "AssertionError: False is not true\n",
      "\n",
      "----------------------------------------------------------------------\n",
      "Ran 6 tests in 1.724s\n",
      "\n",
      "FAILED (failures=2)\n"
     ]
    }
   ],
   "source": [
    "import unittest\n",
    "\n",
    "# Discover and run the tests\n",
    "loader = unittest.TestLoader()\n",
    "suite = loader.discover(start_dir='.', pattern='api_test.py')\n",
    "\n",
    "runner = unittest.TextTestRunner(verbosity=2)\n",
    "result = runner.run(suite)"
   ]
  },
  {
   "cell_type": "code",
   "execution_count": 5,
   "metadata": {},
   "outputs": [
    {
     "name": "stdout",
     "output_type": "stream",
     "text": [
      "...\n",
      "----------------------------------------------------------------------\n",
      "Ran 3 tests in 0.593s\n",
      "\n",
      "OK\n"
     ]
    }
   ],
   "source": [
    "!python -m api_test\n",
    "# !python -m unittest api_test.TestChroniclingAmericaAPI.test_search_titles\n",
    "# !python -m unittest api_test.TestChroniclingAmericaAPI.test_get_specific_batch_json"
   ]
  }
 ],
 "metadata": {
  "kernelspec": {
   "display_name": "toolbench",
   "language": "python",
   "name": "toolbench"
  },
  "language_info": {
   "codemirror_mode": {
    "name": "ipython",
    "version": 3
   },
   "file_extension": ".py",
   "mimetype": "text/x-python",
   "name": "python",
   "nbconvert_exporter": "python",
   "pygments_lexer": "ipython3",
   "version": "3.10.14"
  }
 },
 "nbformat": 4,
 "nbformat_minor": 4
}
