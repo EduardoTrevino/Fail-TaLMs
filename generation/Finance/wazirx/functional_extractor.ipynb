{
 "cells": [
  {
   "cell_type": "code",
   "execution_count": 4,
   "metadata": {},
   "outputs": [
    {
     "name": "stderr",
     "output_type": "stream",
     "text": [
      "test_get_transferable (api_test.TestKucoinAPI.test_get_transferable) ... FAIL\n",
      "test_inner_transfer (api_test.TestKucoinAPI.test_inner_transfer) ... FAIL\n",
      "test_transfer_in (api_test.TestKucoinAPI.test_transfer_in) ... ok\n",
      "test_transfer_out (api_test.TestKucoinAPI.test_transfer_out) ... FAIL\n",
      "test_universal_transfer (api_test.TestKucoinAPI.test_universal_transfer) ... FAIL\n",
      "\n",
      "======================================================================\n",
      "FAIL: test_get_transferable (api_test.TestKucoinAPI.test_get_transferable)\n",
      "----------------------------------------------------------------------\n",
      "Traceback (most recent call last):\n",
      "  File \"/home/trevea/Projects/ToolsForTheJobBenchmark/generation/Finance/kucoin/api_test.py\", line 12, in test_get_transferable\n",
      "    self.assertIn('currency', response)\n",
      "AssertionError: 'currency' not found in {'code': '400001', 'msg': 'Please check the header of your request for KC-API-KEY, KC-API-SIGN, KC-API-TIMESTAMP, KC-API-PASSPHRASE'}\n",
      "\n",
      "======================================================================\n",
      "FAIL: test_inner_transfer (api_test.TestKucoinAPI.test_inner_transfer)\n",
      "----------------------------------------------------------------------\n",
      "Traceback (most recent call last):\n",
      "  File \"/home/trevea/Projects/ToolsForTheJobBenchmark/generation/Finance/kucoin/api_test.py\", line 35, in test_inner_transfer\n",
      "    self.assertIn('orderId', response)\n",
      "AssertionError: 'orderId' not found in {'code': '400001', 'msg': 'Please check the header of your request for KC-API-KEY, KC-API-SIGN, KC-API-TIMESTAMP, KC-API-PASSPHRASE'}\n",
      "\n",
      "======================================================================\n",
      "FAIL: test_transfer_out (api_test.TestKucoinAPI.test_transfer_out)\n",
      "----------------------------------------------------------------------\n",
      "Traceback (most recent call last):\n",
      "  File \"/home/trevea/Projects/ToolsForTheJobBenchmark/generation/Finance/kucoin/api_test.py\", line 44, in test_transfer_out\n",
      "    self.assertIn('applyId', response)\n",
      "AssertionError: 'applyId' not found in {'code': '400001', 'msg': 'Please check the header of your request for KC-API-KEY, KC-API-SIGN, KC-API-TIMESTAMP, KC-API-PASSPHRASE'}\n",
      "\n",
      "======================================================================\n",
      "FAIL: test_universal_transfer (api_test.TestKucoinAPI.test_universal_transfer)\n",
      "----------------------------------------------------------------------\n",
      "Traceback (most recent call last):\n",
      "  File \"/home/trevea/Projects/ToolsForTheJobBenchmark/generation/Finance/kucoin/api_test.py\", line 24, in test_universal_transfer\n",
      "    self.assertIn('orderId', response)\n",
      "AssertionError: 'orderId' not found in {'code': '400001', 'msg': 'Please check the header of your request for KC-API-KEY, KC-API-SIGN, KC-API-TIMESTAMP, KC-API-PASSPHRASE'}\n",
      "\n",
      "----------------------------------------------------------------------\n",
      "Ran 5 tests in 1.808s\n",
      "\n",
      "FAILED (failures=4)\n"
     ]
    }
   ],
   "source": [
    "import unittest\n",
    "\n",
    "# Discover and run the tests\n",
    "loader = unittest.TestLoader()\n",
    "suite = loader.discover(start_dir='.', pattern='api_test.py')\n",
    "\n",
    "runner = unittest.TextTestRunner(verbosity=2)\n",
    "result = runner.run(suite)"
   ]
  },
  {
   "cell_type": "code",
   "execution_count": 2,
   "metadata": {},
   "outputs": [
    {
     "name": "stdout",
     "output_type": "stream",
     "text": [
      ".\n",
      "----------------------------------------------------------------------\n",
      "Ran 1 test in 0.415s\n",
      "\n",
      "OK\n"
     ]
    }
   ],
   "source": [
    "!python -m api_test\n",
    "# !python -m unittest api_test.TestChroniclingAmericaAPI.test_search_titles\n",
    "# !python -m unittest api_test.TestNexchangeAPI.test_get_price_history"
   ]
  }
 ],
 "metadata": {
  "kernelspec": {
   "display_name": "toolbench",
   "language": "python",
   "name": "toolbench"
  },
  "language_info": {
   "codemirror_mode": {
    "name": "ipython",
    "version": 3
   },
   "file_extension": ".py",
   "mimetype": "text/x-python",
   "name": "python",
   "nbconvert_exporter": "python",
   "pygments_lexer": "ipython3",
   "version": "3.10.14"
  }
 },
 "nbformat": 4,
 "nbformat_minor": 4
}
