{
 "cells": [
  {
   "cell_type": "code",
   "execution_count": 3,
   "metadata": {},
   "outputs": [
    {
     "name": "stderr",
     "output_type": "stream",
     "text": [
      "\n",
      "----------------------------------------------------------------------\n",
      "Ran 0 tests in 0.000s\n",
      "\n",
      "NO TESTS RAN\n"
     ]
    }
   ],
   "source": [
    "import unittest\n",
    "\n",
    "# Discover and run the tests\n",
    "loader = unittest.TestLoader()\n",
    "suite = loader.discover(start_dir='.', pattern='api_test.py')\n",
    "\n",
    "runner = unittest.TextTestRunner(verbosity=2)\n",
    "result = runner.run(suite)"
   ]
  },
  {
   "cell_type": "code",
   "execution_count": 16,
   "metadata": {},
   "outputs": [
    {
     "name": "stdout",
     "output_type": "stream",
     "text": [
      ".\n",
      "----------------------------------------------------------------------\n",
      "Ran 1 test in 0.783s\n",
      "\n",
      "OK\n"
     ]
    }
   ],
   "source": [
    "# !python -m api_test\n",
    "# !python -m unittest api_test.TestChroniclingAmericaAPI.test_search_titles\n",
    "!python -m unittest api_test.TestAPI.test_get_ticker_by_id"
   ]
  }
 ],
 "metadata": {
  "kernelspec": {
   "display_name": "toolbench",
   "language": "python",
   "name": "toolbench"
  },
  "language_info": {
   "codemirror_mode": {
    "name": "ipython",
    "version": 3
   },
   "file_extension": ".py",
   "mimetype": "text/x-python",
   "name": "python",
   "nbconvert_exporter": "python",
   "pygments_lexer": "ipython3",
   "version": "3.10.14"
  }
 },
 "nbformat": 4,
 "nbformat_minor": 4
}
