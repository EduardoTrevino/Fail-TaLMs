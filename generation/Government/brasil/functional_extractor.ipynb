{
 "cells": [
  {
   "cell_type": "code",
   "execution_count": 2,
   "metadata": {},
   "outputs": [
    {
     "name": "stderr",
     "output_type": "stream",
     "text": [
      "test_get_zip_info_by_city_invalid (api_test.TestZippopotamusAPI) ... FAIL\n",
      "test_get_zip_info_by_city_valid (api_test.TestZippopotamusAPI) ... ok\n",
      "test_get_zip_info_by_postal_code_invalid (api_test.TestZippopotamusAPI) ... FAIL\n",
      "test_get_zip_info_by_postal_code_valid (api_test.TestZippopotamusAPI) ... ok\n",
      "\n",
      "======================================================================\n",
      "FAIL: test_get_zip_info_by_city_invalid (api_test.TestZippopotamusAPI)\n",
      "----------------------------------------------------------------------\n",
      "Traceback (most recent call last):\n",
      "  File \"d:\\Projects\\ToolsForTheJobBenchmark\\generation\\Geo\\zippopotamus\\api_test.py\", line 22, in test_get_zip_info_by_city_invalid\n",
      "    self.assertIn(\"{}\", result)\n",
      "AssertionError: 'error' not found in {}\n",
      "\n",
      "======================================================================\n",
      "FAIL: test_get_zip_info_by_postal_code_invalid (api_test.TestZippopotamusAPI)\n",
      "----------------------------------------------------------------------\n",
      "Traceback (most recent call last):\n",
      "  File \"d:\\Projects\\ToolsForTheJobBenchmark\\generation\\Geo\\zippopotamus\\api_test.py\", line 14, in test_get_zip_info_by_postal_code_invalid\n",
      "    self.assertIn(\"{}\", result)\n",
      "AssertionError: 'error' not found in {}\n",
      "\n",
      "----------------------------------------------------------------------\n",
      "Ran 4 tests in 0.598s\n",
      "\n",
      "FAILED (failures=2)\n"
     ]
    }
   ],
   "source": [
    "import unittest\n",
    "\n",
    "# Discover and run the tests\n",
    "loader = unittest.TestLoader()\n",
    "suite = loader.discover(start_dir='.', pattern='api_test.py')\n",
    "\n",
    "runner = unittest.TextTestRunner(verbosity=2)\n",
    "result = runner.run(suite)\n",
    "\n"
   ]
  },
  {
   "cell_type": "code",
   "execution_count": 4,
   "metadata": {},
   "outputs": [
    {
     "name": "stderr",
     "output_type": "stream",
     "text": [
      "F.F.\n",
      "======================================================================\n",
      "FAIL: test_get_zip_info_by_city_invalid (__main__.TestZippopotamusAPI)\n",
      "----------------------------------------------------------------------\n",
      "Traceback (most recent call last):\n",
      "  File \"d:\\Projects\\ToolsForTheJobBenchmark\\generation\\Geo\\zippopotamus\\api_test.py\", line 22, in test_get_zip_info_by_city_invalid\n",
      "    self.assertIn(\"\", result)\n",
      "AssertionError: '' not found in {}\n",
      "\n",
      "======================================================================\n",
      "FAIL: test_get_zip_info_by_postal_code_invalid (__main__.TestZippopotamusAPI)\n",
      "----------------------------------------------------------------------\n",
      "Traceback (most recent call last):\n",
      "  File \"d:\\Projects\\ToolsForTheJobBenchmark\\generation\\Geo\\zippopotamus\\api_test.py\", line 14, in test_get_zip_info_by_postal_code_invalid\n",
      "    self.assertIn(\"\", result)\n",
      "AssertionError: '' not found in {}\n",
      "\n",
      "----------------------------------------------------------------------\n",
      "Ran 4 tests in 0.499s\n",
      "\n",
      "FAILED (failures=2)\n"
     ]
    }
   ],
   "source": [
    "!python -m api_test\n",
    "# !python -m unittest api_test.TestChroniclingAmericaAPI.test_search_titles\n",
    "# !python -m unittest api_test.TestDeckOfCardsAPI.test_list_pile"
   ]
  },
  {
   "cell_type": "code",
   "execution_count": 3,
   "metadata": {},
   "outputs": [
    {
     "name": "stdout",
     "output_type": "stream",
     "text": [
      "{'error': 'HTTP Error: 403', 'response': '<html>\\n<head>\\n<title>Access blocked</title>\\n</head>\\n<body>\\n<h1>Access blocked</h1>\\n\\n<p>You have been blocked because you have violated the\\n<a href=\"https://operations.osmfoundation.org/policies/nominatim/\">usage policy</a>\\nof OSM\\'s Nominatim geocoding service. Please be aware that OSM\\'s resources are\\nlimited and shared between many users. The usage policy is there to ensure that\\nthe service remains usable for everybody.</p>\\n\\n<p>Please review the terms and make sure that your\\nsoftware adheres to the terms. You should in particular verify that you have set a\\n<b>custom HTTP referrer or HTTP user agent</b> that identifies your application, and\\nthat you are not overusing the service with massive bulk requests.</p>\\n\\n<p>If you feel that this block is unjustified or remains after you have adopted\\nyour usage, you may contact the Nominatim system administrator at\\nnominatim@openstreetmap.org to have this block lifted.</p>\\n</body>\\n</head>\\n'}\n"
     ]
    }
   ],
   "source": [
    "import requests\n",
    "from typing import Optional, Dict, Any\n",
    "\n",
    "BASE_URL = \"https://nominatim.openstreetmap.org\"\n",
    "\n",
    "def search(\n",
    "    q: Optional[str] = None,\n",
    "    city: Optional[str] = None,\n",
    "    format: str = \"jsonv2\",\n",
    "    limit: int = 10,\n",
    "    addressdetails: int = 0,\n",
    "    extratags: int = 0,\n",
    "    **kwargs\n",
    ") -> Dict[str, Any]:\n",
    "    \"\"\"\n",
    "    Search OSM objects by name or type.\n",
    "    \n",
    "    Parameters:\n",
    "    - q: Free-form query string to search for.\n",
    "    - city: Name of the city to search for (structured query).\n",
    "    - format: Desired format of the response (default is jsonv2).\n",
    "    - limit: Maximum number of results to return (default is 10).\n",
    "    - addressdetails: Include a breakdown of the address into elements (default is 0).\n",
    "    - extratags: Include additional information if available (default is 0).\n",
    "\n",
    "    Returns:\n",
    "    - A dictionary containing the API response, or an error message if the request fails.\n",
    "    \"\"\"\n",
    "    if q and city:\n",
    "        raise ValueError(\"Cannot use both free-form query 'q' and structured query parameters like 'city'.\")\n",
    "    \n",
    "    url = f\"{BASE_URL}/search\"\n",
    "    params = {\n",
    "        \"format\": format,\n",
    "        \"limit\": limit,\n",
    "        \"addressdetails\": addressdetails,\n",
    "        \"extratags\": extratags,\n",
    "    }\n",
    "    \n",
    "    if q:\n",
    "        params[\"q\"] = q\n",
    "    elif city:\n",
    "        params[\"city\"] = city\n",
    "    params.update(kwargs)\n",
    "    \n",
    "    response = requests.get(url, params=params)\n",
    "    \n",
    "    # Check if the response was successful\n",
    "    if response.status_code != 200:\n",
    "        return {\"error\": f\"HTTP Error: {response.status_code}\", \"response\": response.text}\n",
    "    \n",
    "    try:\n",
    "        return response.json()\n",
    "    except ValueError:\n",
    "        return {\"error\": \"Failed to decode JSON\", \"response\": response.text}\n",
    "\n",
    "# Example usage\n",
    "result = search(city=\"taipei\", format=\"jsonv2\", limit=2)\n",
    "print(result)"
   ]
  }
 ],
 "metadata": {
  "kernelspec": {
   "display_name": "Python 3",
   "language": "python",
   "name": "python3"
  },
  "language_info": {
   "codemirror_mode": {
    "name": "ipython",
    "version": 3
   },
   "file_extension": ".py",
   "mimetype": "text/x-python",
   "name": "python",
   "nbconvert_exporter": "python",
   "pygments_lexer": "ipython3",
   "version": "3.10.0"
  }
 },
 "nbformat": 4,
 "nbformat_minor": 4
}
