{
 "cells": [
  {
   "cell_type": "code",
   "execution_count": 1,
   "metadata": {},
   "outputs": [
    {
     "name": "stderr",
     "output_type": "stream",
     "text": [
      "test_custom_format (api_test.TestRobohashAPI) ... ok\n",
      "test_default_image (api_test.TestRobohashAPI) ... ok\n",
      "test_ignoreext_false (api_test.TestRobohashAPI) ... ok\n",
      "test_with_bgset (api_test.TestRobohashAPI) ... ok\n",
      "test_with_gravatar (api_test.TestRobohashAPI) ... ok\n",
      "test_with_set (api_test.TestRobohashAPI) ... ok\n",
      "test_with_size (api_test.TestRobohashAPI) ... ok\n",
      "\n",
      "----------------------------------------------------------------------\n",
      "Ran 7 tests in 1.618s\n",
      "\n",
      "OK\n"
     ]
    }
   ],
   "source": [
    "import unittest\n",
    "\n",
    "# Discover and run the tests\n",
    "loader = unittest.TestLoader()\n",
    "suite = loader.discover(start_dir='.', pattern='api_test.py')\n",
    "\n",
    "runner = unittest.TextTestRunner(verbosity=2)\n",
    "result = runner.run(suite)\n",
    "\n"
   ]
  }
 ],
 "metadata": {
  "kernelspec": {
   "display_name": "toolbench",
   "language": "python",
   "name": "toolbench"
  },
  "language_info": {
   "codemirror_mode": {
    "name": "ipython",
    "version": 3
   },
   "file_extension": ".py",
   "mimetype": "text/x-python",
   "name": "python",
   "nbconvert_exporter": "python",
   "pygments_lexer": "ipython3",
   "version": "3.10.14"
  }
 },
 "nbformat": 4,
 "nbformat_minor": 4
}
