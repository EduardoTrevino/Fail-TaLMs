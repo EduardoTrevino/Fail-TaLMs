{
 "cells": [
  {
   "cell_type": "code",
   "execution_count": null,
   "metadata": {},
   "outputs": [],
   "source": [
    "from bs4 import BeautifulSoup\n",
    "\n",
    "# Read the HTML content from a file\n",
    "with open('content.html', 'r', encoding='utf-8') as file:\n",
    "    html_content = file.read()\n",
    "\n",
    "soup = BeautifulSoup(html_content, 'html.parser')\n",
    "\n",
    "# Find the table by its id\n",
    "table = soup.find('table', id='myTable')\n",
    "\n",
    "# Find all rows in the table body\n",
    "rows = table.find_all('tr')\n",
    "\n",
    "# Loop through rows and extract the link from the 'API NAME' column\n",
    "api_links = []\n",
    "for row in rows:\n",
    "    cells = row.find_all('td')\n",
    "    if len(cells) > 2:  # Make sure the row has enough columns\n",
    "        api_link = cells[2].find('a')\n",
    "        if api_link:\n",
    "            api_links.append(api_link['href'])\n",
    "\n",
    "# Print the extracted links\n",
    "for link in api_links:\n",
    "    print(link)\n"
   ]
  }
 ],
 "metadata": {
  "language_info": {
   "name": "python"
  }
 },
 "nbformat": 4,
 "nbformat_minor": 2
}
