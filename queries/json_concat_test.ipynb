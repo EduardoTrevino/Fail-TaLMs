{
 "cells": [
  {
   "cell_type": "code",
   "execution_count": 2,
   "metadata": {},
   "outputs": [
    {
     "name": "stdout",
     "output_type": "stream",
     "text": [
      "Master JSON file created with 8 entries at single-category/master.json\n"
     ]
    }
   ],
   "source": [
    "import os\n",
    "import json\n",
    "\n",
    "# Define the paths to the folders containing the JSON files\n",
    "base_path = 'single-category'\n",
    "subfolders = ['dependent', 'independent']\n",
    "target_folders = ['FakeData', 'Transportation', 'Weather']\n",
    "\n",
    "# List to hold all the JSON data\n",
    "all_data = []\n",
    "\n",
    "# Function to load JSON files from the target folders\n",
    "def load_json_files(folder_path):\n",
    "    for root, dirs, files in os.walk(folder_path):\n",
    "        for file in files:\n",
    "            if file.endswith('.json'):\n",
    "                file_path = os.path.join(root, file)\n",
    "                with open(file_path, 'r') as f:\n",
    "                    data = json.load(f)\n",
    "                    all_data.extend(data)\n",
    "\n",
    "# Loop through each subfolder and target folder to load JSON files\n",
    "for subfolder in subfolders:\n",
    "    for target_folder in target_folders:\n",
    "        folder_path = os.path.join(base_path, subfolder, target_folder)\n",
    "        if os.path.exists(folder_path):\n",
    "            load_json_files(folder_path)\n",
    "\n",
    "# Save the concatenated data to a master JSON file\n",
    "master_json_path = os.path.join(base_path, 'master.json')\n",
    "with open(master_json_path, 'w') as master_file:\n",
    "    json.dump(all_data, master_file, indent=4)\n",
    "\n",
    "print(f'Master JSON file created with {len(all_data)} entries at {master_json_path}')\n"
   ]
  }
 ],
 "metadata": {
  "language_info": {
   "name": "python"
  }
 },
 "nbformat": 4,
 "nbformat_minor": 2
}
