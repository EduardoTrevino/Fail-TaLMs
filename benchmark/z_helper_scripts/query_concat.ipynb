{
 "cells": [
  {
   "cell_type": "code",
   "execution_count": 4,
   "metadata": {},
   "outputs": [
    {
     "name": "stdout",
     "output_type": "stream",
     "text": [
      "Processing folder: Underspecified\n",
      "Written 555 queries to Underspecified\\all_Underspecified_queries.json\n"
     ]
    }
   ],
   "source": [
    "import os\n",
    "import json\n",
    "\n",
    "def collect_queries(folder_name):\n",
    "    \"\"\"\n",
    "    Collects all queries from JSON files in the specified folder and its subfolders.\n",
    "    Returns a list of queries with updated 'query_id's.\n",
    "    \"\"\"\n",
    "    queries = []\n",
    "    query_id_counter = 1\n",
    "\n",
    "    # Walk through the folder\n",
    "    for root, dirs, files in os.walk(folder_name):\n",
    "        for file in files:\n",
    "            if file.endswith('.json'):\n",
    "                file_path = os.path.join(root, file)\n",
    "                # Read the JSON data from the file\n",
    "                with open(file_path, 'r') as f:\n",
    "                    try:\n",
    "                        data = json.load(f)\n",
    "                    except json.JSONDecodeError as e:\n",
    "                        print(f\"Error decoding JSON from file {file_path}: {e}\")\n",
    "                        continue\n",
    "\n",
    "                    if isinstance(data, list):\n",
    "                        for query in data:\n",
    "                            if isinstance(query, dict):\n",
    "                                # Update 'query_id'\n",
    "                                query['query_id'] = query_id_counter\n",
    "                                query_id_counter += 1\n",
    "                                queries.append(query)\n",
    "                            else:\n",
    "                                print(f\"Expected a dict in file {file_path}, got {type(query)}\")\n",
    "                    elif isinstance(data, dict):\n",
    "                        # Single query in dict\n",
    "                        data['query_id'] = query_id_counter\n",
    "                        query_id_counter += 1\n",
    "                        queries.append(data)\n",
    "                    else:\n",
    "                        print(f\"Unexpected data type in file {file_path}: {type(data)}\")\n",
    "\n",
    "    return queries\n",
    "\n",
    "def main():\n",
    "    folder_types = [\"Original\", \"No-tools\", \"Replaceable\", \"Non-replaceable\", \"Underspecified\"]\n",
    "\n",
    "    for folder_name in folder_types:\n",
    "        if os.path.exists(folder_name):\n",
    "            print(f\"Processing folder: {folder_name}\")\n",
    "            queries = collect_queries(folder_name)\n",
    "\n",
    "            # Write the concatenated queries to all_{folder_name}_queries.json\n",
    "            output_file = os.path.join(folder_name, f\"all_{folder_name}_queries.json\")\n",
    "            with open(output_file, 'w') as f:\n",
    "                json.dump(queries, f, indent=4)\n",
    "            print(f\"Written {len(queries)} queries to {output_file}\")\n",
    "        else:\n",
    "            print(f\"Folder {folder_name} does not exist.\")\n",
    "\n",
    "if __name__ == \"__main__\":\n",
    "    main()\n"
   ]
  }
 ],
 "metadata": {
  "kernelspec": {
   "display_name": "base",
   "language": "python",
   "name": "python3"
  },
  "language_info": {
   "codemirror_mode": {
    "name": "ipython",
    "version": 3
   },
   "file_extension": ".py",
   "mimetype": "text/x-python",
   "name": "python",
   "nbconvert_exporter": "python",
   "pygments_lexer": "ipython3",
   "version": "3.12.4"
  }
 },
 "nbformat": 4,
 "nbformat_minor": 2
}
