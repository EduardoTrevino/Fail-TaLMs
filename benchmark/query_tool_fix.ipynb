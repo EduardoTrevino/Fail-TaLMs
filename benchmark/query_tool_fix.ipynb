{
 "cells": [
  {
   "cell_type": "code",
   "execution_count": 7,
   "metadata": {},
   "outputs": [
    {
     "name": "stdout",
     "output_type": "stream",
     "text": [
      "API 'get_player_game_log' not found in ../tools/Sports/nhl.json (Found in: ./Underspecified/Sports/query_6_1.json)\n",
      "API 'get_player_game_log' not found in ../tools/Sports/nhl.json (Found in: ./Replaceable/Sports/query_6_2.json)\n",
      "API 'get_quote_by_id' not found in ../tools/Content/finalspace.json (Found in: ./Original/Content/query_114.json)\n",
      "API 'search_astronomical_objects' not found in ../tools/Content/stapi.json (Found in: ./Original/Content/query_165.json)\n",
      "API 'get_player_game_log' not found in ../tools/Sports/nhl.json (Found in: ./Original/Sports/query_6.json)\n"
     ]
    }
   ],
   "source": [
    "import os\n",
    "import json\n",
    "\n",
    "# Directory paths\n",
    "query_dir = '.'  # This is the folder with No-tools, Non-replaceable, etc.\n",
    "tools_dir = '../tools'   # This is the tools directory\n",
    "\n",
    "def update_query_file(query_api, tool_file_path, query_file_path):\n",
    "    # Load the tool JSON file (e.g., ../tools/Art/artchicago.json)\n",
    "    with open(tool_file_path, 'r') as f:\n",
    "        tool_data = json.load(f)\n",
    "\n",
    "    # Find the matching API in the tool file's api_list\n",
    "    for tool_api in tool_data.get('api_list', []):\n",
    "        if tool_api['name'] == query_api['api_name']:\n",
    "            # Copy required and optional parameters from tool to query\n",
    "            query_api['required_parameters'] = tool_api.get('required_parameters', [])\n",
    "            query_api['optional_parameters'] = tool_api.get('optional_parameters', [])\n",
    "            # print(f\"Copied parameters for API '{query_api['api_name']}' from {tool_file_path}\")\n",
    "            break\n",
    "    else:\n",
    "        # If API name is not found, print the query name and file path for manual inspection\n",
    "        print(f\"API '{query_api['api_name']}' not found in {tool_file_path} (Found in: {query_file_path})\")\n",
    "\n",
    "def process_query_file(query_file_path):\n",
    "    # Load the query JSON file\n",
    "    with open(query_file_path, 'r') as f:\n",
    "        query_data = json.load(f)\n",
    "\n",
    "    # Loop through each API in the query JSON\n",
    "    for query in query_data:\n",
    "        for api in query.get('api_list', []):\n",
    "            category_name = api['category_name']\n",
    "            tool_name = api['tool_name'].lower()  # Normalize to lowercase\n",
    "            api_name = api['api_name']    # e.g., artworks_search\n",
    "\n",
    "            # Build the tool file path (e.g., ../tools/Art/artchicago.json)\n",
    "            tool_file_path = os.path.join(tools_dir, category_name, f\"{tool_name}.json\")\n",
    "\n",
    "            # Check if the tool file exists\n",
    "            if os.path.exists(tool_file_path):\n",
    "                update_query_file(api, tool_file_path, query_file_path)\n",
    "            else:\n",
    "                # If tool file is not found, print the query name and file path for manual inspection\n",
    "                print(f\"Tool file for '{tool_name}' not found at {tool_file_path} (Found in: {query_file_path})\")\n",
    "\n",
    "    # Write the updated query JSON file\n",
    "    with open(query_file_path, 'w') as f:\n",
    "        json.dump(query_data, f, indent=4)\n",
    "\n",
    "def traverse_query_directory():\n",
    "    # Traverse the query directory and process each query file\n",
    "    for root, dirs, files in os.walk(query_dir):\n",
    "        for file in files:\n",
    "            if file.endswith('.json'):\n",
    "                query_file_path = os.path.join(root, file)\n",
    "                # print(f\"Processing {query_file_path}\")\n",
    "                process_query_file(query_file_path)\n",
    "\n",
    "if __name__ == \"__main__\":\n",
    "    traverse_query_directory()\n",
    "    print(\"Done\")"
   ]
  }
 ],
 "metadata": {
  "language_info": {
   "name": "python"
  }
 },
 "nbformat": 4,
 "nbformat_minor": 2
}
